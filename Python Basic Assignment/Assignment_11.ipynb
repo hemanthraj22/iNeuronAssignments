{
 "cells": [
  {
   "cell_type": "markdown",
   "id": "0a6a8434",
   "metadata": {},
   "source": [
    "### 1. In the below elements which of them are values or an expression? eg:- values can be integer or string and expressions will be mathematical operators.\n",
    "\n",
    " ### * , 'hello', -87.8, -, /, +, 6"
   ]
  },
  {
   "cell_type": "markdown",
   "id": "5f648bab",
   "metadata": {},
   "source": [
    "Expressions:\n",
    "*     Multiplication Operator\n",
    "-     Subtraction Operator\n",
    "/     Division Operator\n",
    "+     Sum Operator\n",
    "\n",
    "Values:\n",
    "-87.8     float value\n",
    "'hello'   string value\n",
    "6         integer value"
   ]
  },
  {
   "cell_type": "markdown",
   "id": "f8d9729c",
   "metadata": {},
   "source": [
    "### 2. What is the difference between string and variable?\n"
   ]
  },
  {
   "cell_type": "markdown",
   "id": "9f8c2277",
   "metadata": {},
   "source": [
    "1. string is one of the data types which python supports.\n",
    "\n",
    "2. variable is a name which refers to the memory location holding a particular value or data type.\n",
    "\n",
    "In the below example first_name is a variable which refers to the memory location holding a string value \"Hemanth\"."
   ]
  },
  {
   "cell_type": "code",
   "execution_count": 7,
   "id": "a046b0ed",
   "metadata": {},
   "outputs": [
    {
     "name": "stdout",
     "output_type": "stream",
     "text": [
      "Hemanth\n"
     ]
    }
   ],
   "source": [
    "first_name = \"Hemanth\"\n",
    "\n",
    "print(first_name)"
   ]
  },
  {
   "cell_type": "markdown",
   "id": "283fe82f",
   "metadata": {},
   "source": [
    "### 3. Describe three different data types."
   ]
  },
  {
   "cell_type": "markdown",
   "id": "df007a7a",
   "metadata": {},
   "source": [
    "String  - represents sequence of characters.                 eg: \"Hemanth\"\n",
    "integer - represents Numeric values with out decimal points  eg: 1, 2, -1, 0\n",
    "float   - represents Numeric values with decimal points      eg: 1.2, -3.2, 4.5\n",
    "bool    - represents boolean values                          eg: True, False"
   ]
  },
  {
   "cell_type": "code",
   "execution_count": 16,
   "id": "4c3db9e5",
   "metadata": {},
   "outputs": [
    {
     "name": "stdout",
     "output_type": "stream",
     "text": [
      "<class 'str'>\n",
      "<class 'int'>\n",
      "<class 'float'>\n",
      "<class 'bool'>\n"
     ]
    }
   ],
   "source": [
    "first_name = \"Hemanth\" #string\n",
    "age        = 99        #int\n",
    "marks      = 95.5      #float\n",
    "major      = True      #bool\n",
    "\n",
    "print(type(first_name))\n",
    "print(type(age))\n",
    "print(type(marks))\n",
    "print(type(major))\n"
   ]
  },
  {
   "cell_type": "markdown",
   "id": "18e690b6",
   "metadata": {},
   "source": [
    "### 4. What is an expression made up of? What do all expressions do?"
   ]
  },
  {
   "cell_type": "markdown",
   "id": "8618a68b",
   "metadata": {},
   "source": [
    "An expression is a combination of operators and operands which is interpreted to produce a result.\n",
    "\n",
    "In the below example * , + are operators and x, y, 2 are operands"
   ]
  },
  {
   "cell_type": "code",
   "execution_count": 17,
   "id": "f072bf1c",
   "metadata": {},
   "outputs": [
    {
     "data": {
      "text/plain": [
       "10"
      ]
     },
     "execution_count": 17,
     "metadata": {},
     "output_type": "execute_result"
    }
   ],
   "source": [
    "x = 2\n",
    "y = 3\n",
    "x *  ( y + 2 ) # expression leading to a result of 10"
   ]
  },
  {
   "cell_type": "markdown",
   "id": "8469f3d8",
   "metadata": {},
   "source": [
    "### 5. This assignment statements, like spam = 10. What is the difference between an expression and a statement?"
   ]
  },
  {
   "cell_type": "markdown",
   "id": "8f4460dd",
   "metadata": {},
   "source": [
    "Statements is a piece of code which tells the computer to perform an action or command. for example import, print, assign a value are statements. \n",
    "\n",
    "Expression is a piece of code which is a combination of variables, operators and values that yields a value as a result.\n",
    "\n",
    "Below are the examples of statement and results."
   ]
  },
  {
   "cell_type": "code",
   "execution_count": 15,
   "id": "4562a257",
   "metadata": {},
   "outputs": [
    {
     "name": "stdout",
     "output_type": "stream",
     "text": [
      "3.141592653589793\n"
     ]
    },
    {
     "data": {
      "text/plain": [
       "10"
      ]
     },
     "execution_count": 15,
     "metadata": {},
     "output_type": "execute_result"
    }
   ],
   "source": [
    "#statements\n",
    "from math import pi\n",
    "x = 2\n",
    "y = 3\n",
    "print(pi)\n",
    "\n",
    "#Expression\n",
    "x *  ( y + 2 )"
   ]
  },
  {
   "cell_type": "markdown",
   "id": "f0cd1cc4",
   "metadata": {},
   "source": [
    "### 6. After running the following code, what does the variable bacon contain?\n",
    "#### bacon = 22\n",
    "#### bacon + 1"
   ]
  },
  {
   "cell_type": "markdown",
   "id": "dc36a3f3",
   "metadata": {},
   "source": [
    "after running the above two lines the variable bacon will continue to hold the value '22' only as there is no assignment to bacon after adding 1."
   ]
  },
  {
   "cell_type": "code",
   "execution_count": 19,
   "id": "0277131a",
   "metadata": {},
   "outputs": [
    {
     "name": "stdout",
     "output_type": "stream",
     "text": [
      "22\n",
      "23\n"
     ]
    }
   ],
   "source": [
    "bacon = 22\n",
    "bacon + 1\n",
    "print(bacon)\n",
    "\n",
    "# to hold the incremented value in bacon we need to assign the \"bacon + 1\" expression to \"bacon\" variable.\n",
    "\n",
    "bacon = bacon + 1\n",
    "print(bacon)"
   ]
  },
  {
   "cell_type": "markdown",
   "id": "592b3763",
   "metadata": {},
   "source": [
    "### 7. What should the values of the following two terms be?\n",
    " #### 'spam' + 'spamspam'\n",
    " #### 'spam' * 3\n"
   ]
  },
  {
   "cell_type": "markdown",
   "id": "82ad3853",
   "metadata": {},
   "source": [
    "The result of both the above statement is same which is 'spamspamspam'.\n",
    "python allows us to concatenate the strings using + operator and allows us to duplicate the strings using * multiplication operator"
   ]
  },
  {
   "cell_type": "code",
   "execution_count": 22,
   "id": "6d5d2bb3",
   "metadata": {},
   "outputs": [
    {
     "name": "stdout",
     "output_type": "stream",
     "text": [
      "Addition : spamspamspam\n",
      "Mutliplication : spamspamspam\n"
     ]
    }
   ],
   "source": [
    "print(\"Addition :\",'spam' + 'spamspam' )\n",
    "print(\"Mutliplication :\", 'spam'*3)"
   ]
  },
  {
   "cell_type": "markdown",
   "id": "3c013542",
   "metadata": {},
   "source": [
    "### 8. Why is eggs a valid variable name while 100 is invalid?"
   ]
  },
  {
   "cell_type": "markdown",
   "id": "84833c7e",
   "metadata": {},
   "source": [
    "Below are the conditions we need to remember when we creating a variable name.\n",
    "\n",
    "1. variable names must start with a letter or underscore but not a number.\n",
    "2. varaible names can contain letters, underscore and numbers.\n",
    "3. variable names case-sensitive, so the names like FIRST_NAME and first_name are not same."
   ]
  },
  {
   "cell_type": "code",
   "execution_count": 27,
   "id": "5738ed8e",
   "metadata": {},
   "outputs": [
    {
     "name": "stdout",
     "output_type": "stream",
     "text": [
      "12\n"
     ]
    }
   ],
   "source": [
    "eggs = 12\n",
    "\n",
    "print(eggs)\n",
    "\n",
    "# 100 = 20 this statement throws syntax error as the variable name should not start with a number"
   ]
  }
 ],
 "metadata": {
  "kernelspec": {
   "display_name": "Python 3 (ipykernel)",
   "language": "python",
   "name": "python3"
  },
  "language_info": {
   "codemirror_mode": {
    "name": "ipython",
    "version": 3
   },
   "file_extension": ".py",
   "mimetype": "text/x-python",
   "name": "python",
   "nbconvert_exporter": "python",
   "pygments_lexer": "ipython3",
   "version": "3.9.7"
  }
 },
 "nbformat": 4,
 "nbformat_minor": 5
}
