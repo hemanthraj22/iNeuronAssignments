{
 "cells": [
  {
   "cell_type": "markdown",
   "id": "241953f5",
   "metadata": {},
   "source": [
    "### 1.What are the two values of the Boolean data type? How do you write them?"
   ]
  },
  {
   "cell_type": "code",
   "execution_count": 1,
   "id": "c0faaa27",
   "metadata": {},
   "outputs": [
    {
     "name": "stdout",
     "output_type": "stream",
     "text": [
      "True\n",
      "True\n"
     ]
    }
   ],
   "source": [
    "\"\"\"\n",
    "Boolean data type holds two types of values True , False\n",
    "True (can be compared with value 1)\n",
    "False (can be compared with value 0)\n",
    "\n",
    "\"\"\"\n",
    "A = True\n",
    "B = False\n",
    "x = 1\n",
    "y = 0\n",
    "print(A == x)\n",
    "print(B == y)"
   ]
  },
  {
   "cell_type": "markdown",
   "id": "c9463f27",
   "metadata": {},
   "source": [
    "### 2. What are the three different types of Boolean operators?"
   ]
  },
  {
   "cell_type": "code",
   "execution_count": 2,
   "id": "e30f58a0",
   "metadata": {},
   "outputs": [
    {
     "name": "stdout",
     "output_type": "stream",
     "text": [
      "x and y are not same\n"
     ]
    }
   ],
   "source": [
    "\"\"\"\n",
    "\n",
    "and - Logical AND => returns TRUE only if both the values are TRUE\n",
    "or  - Logical OR  => returns FALSE only if both the values are FALSE\n",
    "not - Logical NOT => operates on a single boolean value and returns negation to the value passed\n",
    "\n",
    "\"\"\"\n",
    "\n",
    "# sample code using boolean operators.\n",
    "\n",
    "x = 20\n",
    "y = 10\n",
    "\n",
    "if x == 10 and y == 10:\n",
    "   print(\"Both x and y values are same\")\n",
    "    \n",
    "elif not x == y:\n",
    "    print(\"x and y are not same\")\n",
    "    \n",
    "elif x == 10 or y == 10:\n",
    "    print(\"x or y eqaul to 10\")\n",
    "    \n"
   ]
  },
  {
   "cell_type": "markdown",
   "id": "0fcae194",
   "metadata": {},
   "source": [
    "### 3. Make a list of each Boolean operator's truth tables (i.e. every possible combination of Boolean values for the operator and what it evaluate )."
   ]
  },
  {
   "cell_type": "code",
   "execution_count": null,
   "id": "8cae6087",
   "metadata": {},
   "outputs": [],
   "source": [
    "\"\"\"\n",
    "# Truth table of Logical and\n",
    "\n",
    "True  and True   True\n",
    "True  and False  False\n",
    "False and True   False\n",
    "False and False  False\n",
    "\n",
    "#Truth table of Logical or\n",
    "\n",
    "True  or True    True\n",
    "True  or False   True\n",
    "False or True    True\n",
    "False or False   False\n",
    "\n",
    "#Truth table of Logical not\n",
    "\n",
    "not True  False\n",
    "not False True\n",
    "\n",
    "\"\"\""
   ]
  },
  {
   "cell_type": "markdown",
   "id": "e22941d3",
   "metadata": {},
   "source": [
    "### 4. What are the values of the following expressions?\n",
    "\n",
    "1. (5 > 4) and (3 == 5)\n",
    "2. not (5 > 4)\n",
    "3. (5 > 4) or (3 == 5)\n",
    "4. not ((5 > 4) or (3 == 5))\n",
    "5. (True and True) and (True == False)\n",
    "6. (not False) or (not True)\n",
    "\n"
   ]
  },
  {
   "cell_type": "code",
   "execution_count": 13,
   "id": "6dc4f4ab",
   "metadata": {},
   "outputs": [
    {
     "name": "stdout",
     "output_type": "stream",
     "text": [
      "False\n",
      "False\n",
      "True\n",
      "False\n",
      "False\n",
      "True\n"
     ]
    }
   ],
   "source": [
    "# (5 > 4) and (3 == 5)                ==> True and False            ==> False\n",
    "# not (5 > 4)                         ==> not True                  ==> False\n",
    "# (5 > 4) or (3 == 5)                 ==> True or False             ==> True\n",
    "# not ( (5 > 4) or (3 == 5))          ==> not ( True or False )     ==> False\n",
    "# (True and True) and (True == False) ==> True and False            ==> False\n",
    "# (not False) or (not True)           ==> True or False             ==> True\n",
    "\n",
    "print((5 > 4) and (3 == 5))\n",
    "print(not (5 > 4))\n",
    "print((5 > 4) or (3 == 5))\n",
    "print( not ((5 > 4) or (3 == 5))  )\n",
    "print((True and True) and (True == False))\n",
    "print((not False) or (not True))"
   ]
  },
  {
   "cell_type": "markdown",
   "id": "533b2382",
   "metadata": {},
   "source": [
    "### 5. What are the six comparison operators?"
   ]
  },
  {
   "cell_type": "code",
   "execution_count": null,
   "id": "fd3a209f",
   "metadata": {},
   "outputs": [],
   "source": [
    "\"\"\"\n",
    "1. >  Greater than\n",
    "2. <  Less than\n",
    "3. >= Greater than or equal to\n",
    "4. <= Less than or equal to\n",
    "5. == Eqaul to\n",
    "6. != not Eqaul\n",
    "\"\"\""
   ]
  },
  {
   "cell_type": "markdown",
   "id": "0807a751",
   "metadata": {},
   "source": [
    "### 6. How do you tell the difference between the equal to and assignment operators?Describe a condition and when you would use one."
   ]
  },
  {
   "cell_type": "code",
   "execution_count": 3,
   "id": "cc82ab0f",
   "metadata": {},
   "outputs": [
    {
     "name": "stdout",
     "output_type": "stream",
     "text": [
      "first name is correct\n"
     ]
    }
   ],
   "source": [
    "\"\"\"\n",
    "\n",
    "1. The symbol \"=\" represents the assignment operator. we use this operator to assign a value to a variable.\n",
    "\n",
    "\"\"\"\n",
    "# use of assignment operators\n",
    "\n",
    "first_name = \"Hemanth\"\n",
    "list = [1,2,3,5]\n",
    "\n",
    "\"\"\"\n",
    "\n",
    "2. The symbol \"==\" represents the equal to operator and generates a Boolean value as an output. \n",
    "   we use this value during comparison of two operands or values.\n",
    "\n",
    "\"\"\" \n",
    "# use of comparison operators\n",
    "\n",
    "if first_name == \"Hemanth\" :\n",
    "    print(\"first name is correct\")\n",
    "else:\n",
    "    print(\"The name {first_name} is not correct\".format(first_name))\n"
   ]
  },
  {
   "cell_type": "markdown",
   "id": "a6ce38d0",
   "metadata": {},
   "source": [
    "### 7. Identify the three blocks in this code:\n"
   ]
  },
  {
   "cell_type": "code",
   "execution_count": null,
   "id": "bb5d634a",
   "metadata": {},
   "outputs": [],
   "source": [
    "\"\"\"\n",
    "spam = 0\n",
    "if spam == 10:\n",
    "print('eggs')   \n",
    "if spam > 5:\n",
    "print('bacon')\n",
    "else:\n",
    "print('ham')\n",
    "print('spam')\n",
    "print('spam')\n",
    " \"\"\""
   ]
  },
  {
   "cell_type": "code",
   "execution_count": 6,
   "id": "82e559d2",
   "metadata": {},
   "outputs": [
    {
     "name": "stdout",
     "output_type": "stream",
     "text": [
      "eggs\n",
      "bacon\n",
      "spam\n",
      "spam\n"
     ]
    }
   ],
   "source": [
    "spam = 10                 #Level 1 Block indentation\n",
    "\n",
    "if spam == 10:            \n",
    "    print('eggs')         #Level 2 Block indentation\n",
    "    if spam > 5:    \n",
    "        print('bacon')    #Level 3 Block indentation\n",
    "    else:\n",
    "        print('ham')\n",
    "    print('spam')\n",
    "print('spam')"
   ]
  },
  {
   "cell_type": "markdown",
   "id": "1cbb44ff",
   "metadata": {},
   "source": [
    "### 8. Write code that prints Hello if 1 is stored in spam, prints Howdy if 2 is stored in spam, and prints Greetings! if anything else is stored in spam."
   ]
  },
  {
   "cell_type": "code",
   "execution_count": 8,
   "id": "5a4a5b91",
   "metadata": {},
   "outputs": [
    {
     "name": "stdout",
     "output_type": "stream",
     "text": [
      "Provide your input :2\n",
      "Howdy\n"
     ]
    }
   ],
   "source": [
    "spam = int(input(\"Provide your input :\"))\n",
    "\n",
    "if spam == 1:\n",
    "    print(\"Hello\")\n",
    "elif spam == 2:\n",
    "    print(\"Howdy\")\n",
    "else:\n",
    "    print(\"Greetings!\")\n",
    "    "
   ]
  }
 ],
 "metadata": {
  "kernelspec": {
   "display_name": "Python 3 (ipykernel)",
   "language": "python",
   "name": "python3"
  },
  "language_info": {
   "codemirror_mode": {
    "name": "ipython",
    "version": 3
   },
   "file_extension": ".py",
   "mimetype": "text/x-python",
   "name": "python",
   "nbconvert_exporter": "python",
   "pygments_lexer": "ipython3",
   "version": "3.9.7"
  }
 },
 "nbformat": 4,
 "nbformat_minor": 5
}
