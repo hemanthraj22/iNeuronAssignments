{
 "cells": [
  {
   "cell_type": "markdown",
   "id": "9c073d0a",
   "metadata": {},
   "source": [
    "# Python Basic Assignment"
   ]
  },
  {
   "cell_type": "markdown",
   "id": "0f509033",
   "metadata": {},
   "source": [
    "# Assignment_3"
   ]
  },
  {
   "cell_type": "markdown",
   "id": "fb9ec9b9",
   "metadata": {},
   "source": [
    "## 1. Why are functions advantageous to have in your programs?"
   ]
  },
  {
   "cell_type": "code",
   "execution_count": null,
   "id": "a82b1b10",
   "metadata": {},
   "outputs": [],
   "source": [
    "\"\"\"\n",
    "Below are the advantages of functions:\n",
    "\n",
    "1. Enhances readability of the code.\n",
    "2. Increases reusability (Avoids rewriting of same code)\n",
    "3. Increases Modularity which helps to maintain the code easily.\n",
    "4. Better way to organize the code.\n",
    "\"\"\""
   ]
  },
  {
   "cell_type": "markdown",
   "id": "927bc5f1",
   "metadata": {},
   "source": [
    "## 2. When does the code in a function run: when it's specified or when it's called?"
   ]
  },
  {
   "cell_type": "code",
   "execution_count": null,
   "id": "d25b5044",
   "metadata": {},
   "outputs": [],
   "source": [
    "\"\"\"\n",
    "Function body (code inside the function) executes only when the function is called \n",
    "but not when the function is specified/declared.\n",
    "\"\"\""
   ]
  },
  {
   "cell_type": "code",
   "execution_count": 4,
   "id": "b0e1a8d3",
   "metadata": {},
   "outputs": [
    {
     "name": "stdout",
     "output_type": "stream",
     "text": [
      "This is a line from function B\n",
      "This is a line from function A\n"
     ]
    }
   ],
   "source": [
    "# Function declaration\n",
    "def function_a():\n",
    "    print(\"This is a line from function A\")\n",
    "    \n",
    "def function_b():\n",
    "    print(\"This is a line from function B\")\n",
    "\n",
    "# Function call\n",
    "function_b()\n",
    "function_a()"
   ]
  },
  {
   "cell_type": "markdown",
   "id": "4eb48436",
   "metadata": {},
   "source": [
    "## 3. What statement creates a function?"
   ]
  },
  {
   "cell_type": "code",
   "execution_count": null,
   "id": "d8eb109c",
   "metadata": {},
   "outputs": [],
   "source": [
    "\"\"\"keyword def is required to create a function. Below is the syntax to create a function.\"\"\""
   ]
  },
  {
   "cell_type": "raw",
   "id": "cbbbf118",
   "metadata": {},
   "source": [
    "def function_name(parm1, parm2):\n",
    "    function body"
   ]
  },
  {
   "cell_type": "markdown",
   "id": "a1c63b19",
   "metadata": {},
   "source": [
    "## 4. What is the difference between a function and a function call?"
   ]
  },
  {
   "cell_type": "code",
   "execution_count": null,
   "id": "934b340d",
   "metadata": {},
   "outputs": [],
   "source": [
    "\"\"\"\n",
    "function: is a module in the program that is written to accomplish a specific task.\n",
    "\n",
    "function call: The function call in python is a function name with a set of round brackets and arguments inside \n",
    "              (arguments are passed only if function requires).\n",
    "\n",
    "function_name(arg1, arg2, ..)\n",
    "\"\"\""
   ]
  },
  {
   "cell_type": "markdown",
   "id": "9a275d32",
   "metadata": {},
   "source": [
    "## 5. How many global scopes are there in a Python program? How many local scopes?"
   ]
  },
  {
   "cell_type": "code",
   "execution_count": null,
   "id": "fbd46c72",
   "metadata": {},
   "outputs": [],
   "source": [
    "\"\"\"\n",
    "1. There is only one global scope and there will be multiple local scopes in python. \n",
    "    \n",
    "2. Global variables can be accessed from inside local space, but not vice versa.\n",
    "\n",
    "Below is the code illustracting global and local scopes in python.\n",
    "\"\"\""
   ]
  },
  {
   "cell_type": "code",
   "execution_count": 5,
   "id": "17ece2a6",
   "metadata": {},
   "outputs": [
    {
     "name": "stdout",
     "output_type": "stream",
     "text": [
      "The local variable from function_1 is 10\n",
      "This is a Gloabl variable 10\n",
      "The local variable from function_2 is 20\n"
     ]
    }
   ],
   "source": [
    "global_variable = 10\n",
    "\n",
    "def function_1(a):\n",
    "    local_variable_1 = a\n",
    "    print(\"The local variable from function_1 is\", local_variable_1)\n",
    "    print(\"This is a Gloabl variable\", global_variable)\n",
    "    \n",
    "def function_2(b):\n",
    "    local_variable_2 = b\n",
    "    print(\"The local variable from function_2 is\", local_variable_2)\n",
    "\n",
    "\n",
    "function_1(10)\n",
    "function_2(20)"
   ]
  },
  {
   "cell_type": "markdown",
   "id": "cc24636c",
   "metadata": {},
   "source": [
    "## 6. What happens to variables in a local scope when the function call returns?"
   ]
  },
  {
   "cell_type": "code",
   "execution_count": null,
   "id": "82e6320c",
   "metadata": {},
   "outputs": [],
   "source": [
    "\"\"\"\n",
    "\n",
    "when a function call returns, the local variables created inside the function will not be available for reference \n",
    "    in the remaining part program and they are ready for garbage collection.\n",
    "\n",
    "\"\"\""
   ]
  },
  {
   "cell_type": "markdown",
   "id": "a622f3fa",
   "metadata": {},
   "source": [
    "## 7. What is the concept of a return value? Is it possible to have a return value in an expression?"
   ]
  },
  {
   "cell_type": "code",
   "execution_count": 9,
   "id": "c363ed46",
   "metadata": {},
   "outputs": [
    {
     "name": "stdout",
     "output_type": "stream",
     "text": [
      "7\n"
     ]
    }
   ],
   "source": [
    "\"\"\"\n",
    "1. sometimes functions produces a value as an output.\n",
    "we may need to store that output in the global variable inside the function, \n",
    "or pass the output generated by a function in the return statement.\n",
    "\n",
    "2. we can use the return value in an expression\n",
    "\n",
    "Below example illustrating above 2 points:\n",
    "\n",
    "\"\"\"\n",
    "def func_sum(a,b):\n",
    "    return (a + b)\n",
    "\n",
    "# Below statement showing the expression that contains the function return value\n",
    "result = 2 + func_sum(2, 3)\n",
    "\n",
    "print(result)\n"
   ]
  },
  {
   "cell_type": "markdown",
   "id": "ed1e4493",
   "metadata": {},
   "source": [
    "## 8. If a function does not have a return statement, what is the return value of a call to that function?\n",
    "\n",
    "\n",
    "\n",
    "\n",
    "\n"
   ]
  },
  {
   "cell_type": "code",
   "execution_count": 14,
   "id": "220d827b",
   "metadata": {},
   "outputs": [
    {
     "name": "stdout",
     "output_type": "stream",
     "text": [
      "Hello Hemanth\n"
     ]
    },
    {
     "data": {
      "text/plain": [
       "NoneType"
      ]
     },
     "execution_count": 14,
     "metadata": {},
     "output_type": "execute_result"
    }
   ],
   "source": [
    "\"\"\" The function returns NoneType if there is no return statement provided \"\"\"\n",
    "\n",
    "def func_a(name):\n",
    "    print(\"Hello\", name)\n",
    "    \n",
    "type(func_a(\"Hemanth\"))"
   ]
  },
  {
   "cell_type": "markdown",
   "id": "fbea220a",
   "metadata": {},
   "source": [
    "## 9. How do you make a function variable refer to the global variable?"
   ]
  },
  {
   "cell_type": "code",
   "execution_count": 16,
   "id": "2b5edb1a",
   "metadata": {},
   "outputs": [
    {
     "name": "stdout",
     "output_type": "stream",
     "text": [
      "This is a global variable that I can refer outside of the function 32\n"
     ]
    }
   ],
   "source": [
    "\"\"\" We can convert a function variable to a global variable using the keyword global \"\"\"\n",
    "\n",
    "def function_a():\n",
    "    global a\n",
    "    a = 32\n",
    "\n",
    "function_a()\n",
    "\n",
    "print(\"This is a global variable that I can refer outside of the function\", a)"
   ]
  },
  {
   "cell_type": "markdown",
   "id": "5c36c30b",
   "metadata": {},
   "source": [
    "## 10. What is the data type of None?"
   ]
  },
  {
   "cell_type": "code",
   "execution_count": 19,
   "id": "6f13734d",
   "metadata": {},
   "outputs": [
    {
     "data": {
      "text/plain": [
       "NoneType"
      ]
     },
     "execution_count": 19,
     "metadata": {},
     "output_type": "execute_result"
    }
   ],
   "source": [
    "\"\"\" If a function does not have any return type, then the program implicitly returns the type None \n",
    "       which indicates No value \n",
    "\"\"\"\n",
    "\n",
    "def function_x():\n",
    "    x = 32\n",
    "    \n",
    "type(function_x())"
   ]
  },
  {
   "cell_type": "markdown",
   "id": "17616f00",
   "metadata": {},
   "source": [
    "## 11. What does the sentence import areallyourpetsnamederic do?"
   ]
  },
  {
   "cell_type": "code",
   "execution_count": null,
   "id": "1c7216e5",
   "metadata": {},
   "outputs": [],
   "source": [
    "\"\"\" The import <package> statement imports the package defined if it's already installed/available \"\"\""
   ]
  },
  {
   "cell_type": "markdown",
   "id": "fbcf1cb8",
   "metadata": {},
   "source": [
    "## 12. If you had a bacon() feature in a spam module, what would you call it after importing spam?"
   ]
  },
  {
   "cell_type": "code",
   "execution_count": null,
   "id": "bc4250e7",
   "metadata": {},
   "outputs": [],
   "source": [
    "\"\"\" \n",
    "# first import spam module.\n",
    "\n",
    "import spam\n",
    "\n",
    "# then call the bacon() method used the below statement.\n",
    "\n",
    "spam.bacon()\n",
    "\n",
    "\n",
    "\"\"\""
   ]
  },
  {
   "cell_type": "markdown",
   "id": "e42a9034",
   "metadata": {},
   "source": [
    "## 13. What can you do to save a programme from crashing if it encounters an error?"
   ]
  },
  {
   "cell_type": "code",
   "execution_count": 32,
   "id": "301ae854",
   "metadata": {},
   "outputs": [
    {
     "name": "stdout",
     "output_type": "stream",
     "text": [
      "The second value is invalid\n"
     ]
    }
   ],
   "source": [
    "\"\"\" we need to catch the exceptions that are encountered in a program using Exception Handling methods \n",
    "\n",
    "    Below is the simple illustration for Exception Handling\n",
    "    \n",
    "\"\"\"\n",
    "\n",
    "def funct(a,b):\n",
    "    try:\n",
    "        global result\n",
    "        \n",
    "        if b == 0: raise ValueError(\"The second argument should not be a zero\")\n",
    "        else: result = a/b\n",
    "        \n",
    "    except ValueError:\n",
    "    \n",
    "        print(\"The second value is invalid\")\n",
    "        \n",
    "    else: \n",
    "        print(result)\n",
    "\n",
    "        \n",
    "funct(2,0)\n"
   ]
  },
  {
   "cell_type": "markdown",
   "id": "4132b6e3",
   "metadata": {},
   "source": [
    "## 14. What is the purpose of the try clause? What is the purpose of the except clause?"
   ]
  },
  {
   "cell_type": "code",
   "execution_count": null,
   "id": "4352633f",
   "metadata": {},
   "outputs": [],
   "source": [
    "\"\"\"\n",
    "try block contains the statements that may create errors.\n",
    "\n",
    "except block contains that statements to handle the errors.\n",
    "except block statements will execute only when the error occured in try block statements.\n",
    "\n",
    "\n",
    "\"\"\""
   ]
  }
 ],
 "metadata": {
  "kernelspec": {
   "display_name": "Python 3 (ipykernel)",
   "language": "python",
   "name": "python3"
  },
  "language_info": {
   "codemirror_mode": {
    "name": "ipython",
    "version": 3
   },
   "file_extension": ".py",
   "mimetype": "text/x-python",
   "name": "python",
   "nbconvert_exporter": "python",
   "pygments_lexer": "ipython3",
   "version": "3.10.2"
  }
 },
 "nbformat": 4,
 "nbformat_minor": 5
}
